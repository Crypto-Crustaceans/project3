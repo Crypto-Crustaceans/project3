{
 "cells": [
  {
   "cell_type": "code",
   "execution_count": 1,
   "metadata": {},
   "outputs": [],
   "source": [
    "import pandas as pd\n",
    "import numpy as np\n",
    "import matplotlib.pyplot as plt"
   ]
  },
  {
   "cell_type": "code",
   "execution_count": 22,
   "metadata": {
    "scrolled": true
   },
   "outputs": [
    {
     "data": {
      "text/html": [
       "<div>\n",
       "<style scoped>\n",
       "    .dataframe tbody tr th:only-of-type {\n",
       "        vertical-align: middle;\n",
       "    }\n",
       "\n",
       "    .dataframe tbody tr th {\n",
       "        vertical-align: top;\n",
       "    }\n",
       "\n",
       "    .dataframe thead th {\n",
       "        text-align: right;\n",
       "    }\n",
       "</style>\n",
       "<table border=\"1\" class=\"dataframe\">\n",
       "  <thead>\n",
       "    <tr style=\"text-align: right;\">\n",
       "      <th></th>\n",
       "      <th>symbol</th>\n",
       "      <th>time</th>\n",
       "      <th>transaction_count</th>\n",
       "      <th>large_transaction_count</th>\n",
       "      <th>average_transaction_value</th>\n",
       "      <th>high</th>\n",
       "      <th>low</th>\n",
       "      <th>open</th>\n",
       "      <th>close</th>\n",
       "      <th>volumeto</th>\n",
       "      <th>reddit_comments_per_day</th>\n",
       "      <th>total_avg_transaction_value</th>\n",
       "      <th>7_day_total_avg_transaction_value</th>\n",
       "      <th>7_day_large_transaction_count</th>\n",
       "      <th>7_day_reddit_comments_per_day</th>\n",
       "      <th>7_day_volumeto</th>\n",
       "    </tr>\n",
       "  </thead>\n",
       "  <tbody>\n",
       "    <tr>\n",
       "      <th>0</th>\n",
       "      <td>BTC</td>\n",
       "      <td>1459382400</td>\n",
       "      <td>206476</td>\n",
       "      <td>1747</td>\n",
       "      <td>10.601309</td>\n",
       "      <td>417.16</td>\n",
       "      <td>411.45</td>\n",
       "      <td>412.44</td>\n",
       "      <td>415.66</td>\n",
       "      <td>17407273.19</td>\n",
       "      <td>0.0</td>\n",
       "      <td>2.188916e+06</td>\n",
       "      <td>NaN</td>\n",
       "      <td>NaN</td>\n",
       "      <td>NaN</td>\n",
       "      <td>NaN</td>\n",
       "    </tr>\n",
       "    <tr>\n",
       "      <th>1</th>\n",
       "      <td>BTC</td>\n",
       "      <td>1459468800</td>\n",
       "      <td>211922</td>\n",
       "      <td>1668</td>\n",
       "      <td>10.293830</td>\n",
       "      <td>416.86</td>\n",
       "      <td>412.79</td>\n",
       "      <td>415.66</td>\n",
       "      <td>415.64</td>\n",
       "      <td>15852511.01</td>\n",
       "      <td>0.0</td>\n",
       "      <td>2.181489e+06</td>\n",
       "      <td>NaN</td>\n",
       "      <td>NaN</td>\n",
       "      <td>NaN</td>\n",
       "      <td>NaN</td>\n",
       "    </tr>\n",
       "    <tr>\n",
       "      <th>2</th>\n",
       "      <td>BTC</td>\n",
       "      <td>1459555200</td>\n",
       "      <td>183503</td>\n",
       "      <td>1752</td>\n",
       "      <td>9.584394</td>\n",
       "      <td>420.09</td>\n",
       "      <td>415.09</td>\n",
       "      <td>415.64</td>\n",
       "      <td>418.51</td>\n",
       "      <td>13137339.89</td>\n",
       "      <td>0.0</td>\n",
       "      <td>1.758765e+06</td>\n",
       "      <td>NaN</td>\n",
       "      <td>NaN</td>\n",
       "      <td>NaN</td>\n",
       "      <td>NaN</td>\n",
       "    </tr>\n",
       "    <tr>\n",
       "      <th>3</th>\n",
       "      <td>BTC</td>\n",
       "      <td>1459641600</td>\n",
       "      <td>178429</td>\n",
       "      <td>1405</td>\n",
       "      <td>8.752097</td>\n",
       "      <td>420.18</td>\n",
       "      <td>416.95</td>\n",
       "      <td>418.51</td>\n",
       "      <td>419.06</td>\n",
       "      <td>9591214.82</td>\n",
       "      <td>0.0</td>\n",
       "      <td>1.561628e+06</td>\n",
       "      <td>NaN</td>\n",
       "      <td>NaN</td>\n",
       "      <td>NaN</td>\n",
       "      <td>NaN</td>\n",
       "    </tr>\n",
       "    <tr>\n",
       "      <th>4</th>\n",
       "      <td>BTC</td>\n",
       "      <td>1459728000</td>\n",
       "      <td>208929</td>\n",
       "      <td>1444</td>\n",
       "      <td>10.204954</td>\n",
       "      <td>420.39</td>\n",
       "      <td>416.21</td>\n",
       "      <td>419.06</td>\n",
       "      <td>419.33</td>\n",
       "      <td>14031939.65</td>\n",
       "      <td>0.0</td>\n",
       "      <td>2.132111e+06</td>\n",
       "      <td>NaN</td>\n",
       "      <td>NaN</td>\n",
       "      <td>NaN</td>\n",
       "      <td>NaN</td>\n",
       "    </tr>\n",
       "  </tbody>\n",
       "</table>\n",
       "</div>"
      ],
      "text/plain": [
       "  symbol        time  transaction_count  large_transaction_count  \\\n",
       "0    BTC  1459382400             206476                     1747   \n",
       "1    BTC  1459468800             211922                     1668   \n",
       "2    BTC  1459555200             183503                     1752   \n",
       "3    BTC  1459641600             178429                     1405   \n",
       "4    BTC  1459728000             208929                     1444   \n",
       "\n",
       "   average_transaction_value    high     low    open   close     volumeto  \\\n",
       "0                  10.601309  417.16  411.45  412.44  415.66  17407273.19   \n",
       "1                  10.293830  416.86  412.79  415.66  415.64  15852511.01   \n",
       "2                   9.584394  420.09  415.09  415.64  418.51  13137339.89   \n",
       "3                   8.752097  420.18  416.95  418.51  419.06   9591214.82   \n",
       "4                  10.204954  420.39  416.21  419.06  419.33  14031939.65   \n",
       "\n",
       "   reddit_comments_per_day  total_avg_transaction_value  \\\n",
       "0                      0.0                 2.188916e+06   \n",
       "1                      0.0                 2.181489e+06   \n",
       "2                      0.0                 1.758765e+06   \n",
       "3                      0.0                 1.561628e+06   \n",
       "4                      0.0                 2.132111e+06   \n",
       "\n",
       "   7_day_total_avg_transaction_value  7_day_large_transaction_count  \\\n",
       "0                                NaN                            NaN   \n",
       "1                                NaN                            NaN   \n",
       "2                                NaN                            NaN   \n",
       "3                                NaN                            NaN   \n",
       "4                                NaN                            NaN   \n",
       "\n",
       "   7_day_reddit_comments_per_day  7_day_volumeto  \n",
       "0                            NaN             NaN  \n",
       "1                            NaN             NaN  \n",
       "2                            NaN             NaN  \n",
       "3                            NaN             NaN  \n",
       "4                            NaN             NaN  "
      ]
     },
     "execution_count": 22,
     "metadata": {},
     "output_type": "execute_result"
    }
   ],
   "source": [
    "df = pd.read_csv('combined_data.csv')\n",
    "\n",
    "df.head()"
   ]
  },
  {
   "cell_type": "code",
   "execution_count": 23,
   "metadata": {},
   "outputs": [],
   "source": [
    "pre_1_day_list = []\n",
    "\n",
    "for i in range(1, len(df)):\n",
    "    open = df.iloc[i-1,7]\n",
    "    pre_1_day_list.append(open)"
   ]
  },
  {
   "cell_type": "code",
   "execution_count": 24,
   "metadata": {},
   "outputs": [],
   "source": [
    "pre_7_day_list = []\n",
    "\n",
    "for i in range(6, len(df)):\n",
    "    open = df.iloc[i-6,7]\n",
    "    pre_7_day_list.append(open)"
   ]
  },
  {
   "cell_type": "code",
   "execution_count": 25,
   "metadata": {},
   "outputs": [],
   "source": [
    "df = df.iloc[1:,]\n",
    "\n",
    "df['pre_1_day_open'] = pre_1_day_list"
   ]
  },
  {
   "cell_type": "code",
   "execution_count": 26,
   "metadata": {},
   "outputs": [],
   "source": [
    "df = df.iloc[5:,]\n",
    "\n",
    "df['pre_7_day_open'] = pre_7_day_list"
   ]
  },
  {
   "cell_type": "code",
   "execution_count": 27,
   "metadata": {},
   "outputs": [],
   "source": [
    "df = df.dropna()"
   ]
  },
  {
   "cell_type": "code",
   "execution_count": 28,
   "metadata": {},
   "outputs": [],
   "source": [
    "df = df[df['7_day_reddit_comments_per_day'] > 0]"
   ]
  },
  {
   "cell_type": "code",
   "execution_count": 29,
   "metadata": {},
   "outputs": [],
   "source": [
    "post_1_day_list = []\n",
    "\n",
    "for i in range(0, len(df)-1):\n",
    "    close = df.iloc[i+1,8]\n",
    "    post_1_day_list.append(close)"
   ]
  },
  {
   "cell_type": "code",
   "execution_count": 30,
   "metadata": {},
   "outputs": [],
   "source": [
    "post_7_day_list = []\n",
    "\n",
    "for i in range(0, len(df)-6):\n",
    "    close = df.iloc[i+6,8]\n",
    "    post_7_day_list.append(close)"
   ]
  },
  {
   "cell_type": "code",
   "execution_count": 31,
   "metadata": {},
   "outputs": [],
   "source": [
    "df = df.iloc[:-1,]\n",
    "\n",
    "df['post_1_day_close'] = post_1_day_list"
   ]
  },
  {
   "cell_type": "code",
   "execution_count": 32,
   "metadata": {},
   "outputs": [],
   "source": [
    "df = df.iloc[:-5,]\n",
    "\n",
    "df['post_7_day_close'] = post_7_day_list"
   ]
  },
  {
   "cell_type": "code",
   "execution_count": 33,
   "metadata": {},
   "outputs": [],
   "source": [
    "df = df[df['time'] >= 1577836800]"
   ]
  },
  {
   "cell_type": "code",
   "execution_count": 34,
   "metadata": {},
   "outputs": [
    {
     "data": {
      "text/html": [
       "<div>\n",
       "<style scoped>\n",
       "    .dataframe tbody tr th:only-of-type {\n",
       "        vertical-align: middle;\n",
       "    }\n",
       "\n",
       "    .dataframe tbody tr th {\n",
       "        vertical-align: top;\n",
       "    }\n",
       "\n",
       "    .dataframe thead th {\n",
       "        text-align: right;\n",
       "    }\n",
       "</style>\n",
       "<table border=\"1\" class=\"dataframe\">\n",
       "  <thead>\n",
       "    <tr style=\"text-align: right;\">\n",
       "      <th></th>\n",
       "      <th>symbol</th>\n",
       "      <th>time</th>\n",
       "      <th>transaction_count</th>\n",
       "      <th>large_transaction_count</th>\n",
       "      <th>average_transaction_value</th>\n",
       "      <th>high</th>\n",
       "      <th>low</th>\n",
       "      <th>open</th>\n",
       "      <th>close</th>\n",
       "      <th>volumeto</th>\n",
       "      <th>reddit_comments_per_day</th>\n",
       "      <th>total_avg_transaction_value</th>\n",
       "      <th>7_day_total_avg_transaction_value</th>\n",
       "      <th>7_day_large_transaction_count</th>\n",
       "      <th>7_day_reddit_comments_per_day</th>\n",
       "      <th>7_day_volumeto</th>\n",
       "      <th>pre_1_day_open</th>\n",
       "      <th>pre_7_day_open</th>\n",
       "      <th>post_1_day_close</th>\n",
       "      <th>post_7_day_close</th>\n",
       "    </tr>\n",
       "  </thead>\n",
       "  <tbody>\n",
       "    <tr>\n",
       "      <th>1371</th>\n",
       "      <td>BTC</td>\n",
       "      <td>1577836800</td>\n",
       "      <td>251734</td>\n",
       "      <td>5005</td>\n",
       "      <td>1.768912</td>\n",
       "      <td>7267.16</td>\n",
       "      <td>7171.82</td>\n",
       "      <td>7183.88</td>\n",
       "      <td>7189.94</td>\n",
       "      <td>8.598619e+07</td>\n",
       "      <td>1369.26</td>\n",
       "      <td>4.452952e+05</td>\n",
       "      <td>710705.077773</td>\n",
       "      <td>7522.142857</td>\n",
       "      <td>1913.192857</td>\n",
       "      <td>1.412924e+08</td>\n",
       "      <td>7234.44</td>\n",
       "      <td>7202.72</td>\n",
       "      <td>6965.72</td>\n",
       "      <td>8160.36</td>\n",
       "    </tr>\n",
       "    <tr>\n",
       "      <th>1372</th>\n",
       "      <td>BTC</td>\n",
       "      <td>1577923200</td>\n",
       "      <td>295566</td>\n",
       "      <td>8493</td>\n",
       "      <td>2.351816</td>\n",
       "      <td>7224.84</td>\n",
       "      <td>6945.83</td>\n",
       "      <td>7189.94</td>\n",
       "      <td>6965.72</td>\n",
       "      <td>1.873940e+08</td>\n",
       "      <td>2333.87</td>\n",
       "      <td>6.951168e+05</td>\n",
       "      <td>709801.894152</td>\n",
       "      <td>7386.714286</td>\n",
       "      <td>1889.150000</td>\n",
       "      <td>1.439105e+08</td>\n",
       "      <td>7183.88</td>\n",
       "      <td>7207.23</td>\n",
       "      <td>7339.70</td>\n",
       "      <td>8045.15</td>\n",
       "    </tr>\n",
       "    <tr>\n",
       "      <th>1373</th>\n",
       "      <td>BTC</td>\n",
       "      <td>1578009600</td>\n",
       "      <td>316516</td>\n",
       "      <td>10438</td>\n",
       "      <td>3.217988</td>\n",
       "      <td>7407.11</td>\n",
       "      <td>6882.62</td>\n",
       "      <td>6965.72</td>\n",
       "      <td>7339.70</td>\n",
       "      <td>3.766904e+08</td>\n",
       "      <td>2954.86</td>\n",
       "      <td>1.018545e+06</td>\n",
       "      <td>731315.924905</td>\n",
       "      <td>7731.857143</td>\n",
       "      <td>2007.261429</td>\n",
       "      <td>1.714965e+08</td>\n",
       "      <td>7189.94</td>\n",
       "      <td>7253.82</td>\n",
       "      <td>7357.50</td>\n",
       "      <td>7817.35</td>\n",
       "    </tr>\n",
       "    <tr>\n",
       "      <th>1374</th>\n",
       "      <td>BTC</td>\n",
       "      <td>1578096000</td>\n",
       "      <td>287214</td>\n",
       "      <td>10803</td>\n",
       "      <td>2.295507</td>\n",
       "      <td>7405.75</td>\n",
       "      <td>7278.60</td>\n",
       "      <td>7339.70</td>\n",
       "      <td>7357.50</td>\n",
       "      <td>1.621069e+08</td>\n",
       "      <td>2801.56</td>\n",
       "      <td>6.593017e+05</td>\n",
       "      <td>727595.469562</td>\n",
       "      <td>8311.000000</td>\n",
       "      <td>2177.678571</td>\n",
       "      <td>1.794287e+08</td>\n",
       "      <td>6965.72</td>\n",
       "      <td>7316.23</td>\n",
       "      <td>7359.96</td>\n",
       "      <td>8190.31</td>\n",
       "    </tr>\n",
       "    <tr>\n",
       "      <th>1375</th>\n",
       "      <td>BTC</td>\n",
       "      <td>1578182400</td>\n",
       "      <td>287778</td>\n",
       "      <td>9250</td>\n",
       "      <td>1.963354</td>\n",
       "      <td>7501.42</td>\n",
       "      <td>7330.07</td>\n",
       "      <td>7357.50</td>\n",
       "      <td>7359.96</td>\n",
       "      <td>1.791477e+08</td>\n",
       "      <td>1964.08</td>\n",
       "      <td>5.650102e+05</td>\n",
       "      <td>728026.910476</td>\n",
       "      <td>8874.714286</td>\n",
       "      <td>2184.522857</td>\n",
       "      <td>1.856987e+08</td>\n",
       "      <td>7339.70</td>\n",
       "      <td>7399.49</td>\n",
       "      <td>7762.69</td>\n",
       "      <td>8024.58</td>\n",
       "    </tr>\n",
       "  </tbody>\n",
       "</table>\n",
       "</div>"
      ],
      "text/plain": [
       "     symbol        time  transaction_count  large_transaction_count  \\\n",
       "1371    BTC  1577836800             251734                     5005   \n",
       "1372    BTC  1577923200             295566                     8493   \n",
       "1373    BTC  1578009600             316516                    10438   \n",
       "1374    BTC  1578096000             287214                    10803   \n",
       "1375    BTC  1578182400             287778                     9250   \n",
       "\n",
       "      average_transaction_value     high      low     open    close  \\\n",
       "1371                   1.768912  7267.16  7171.82  7183.88  7189.94   \n",
       "1372                   2.351816  7224.84  6945.83  7189.94  6965.72   \n",
       "1373                   3.217988  7407.11  6882.62  6965.72  7339.70   \n",
       "1374                   2.295507  7405.75  7278.60  7339.70  7357.50   \n",
       "1375                   1.963354  7501.42  7330.07  7357.50  7359.96   \n",
       "\n",
       "          volumeto  reddit_comments_per_day  total_avg_transaction_value  \\\n",
       "1371  8.598619e+07                  1369.26                 4.452952e+05   \n",
       "1372  1.873940e+08                  2333.87                 6.951168e+05   \n",
       "1373  3.766904e+08                  2954.86                 1.018545e+06   \n",
       "1374  1.621069e+08                  2801.56                 6.593017e+05   \n",
       "1375  1.791477e+08                  1964.08                 5.650102e+05   \n",
       "\n",
       "      7_day_total_avg_transaction_value  7_day_large_transaction_count  \\\n",
       "1371                      710705.077773                    7522.142857   \n",
       "1372                      709801.894152                    7386.714286   \n",
       "1373                      731315.924905                    7731.857143   \n",
       "1374                      727595.469562                    8311.000000   \n",
       "1375                      728026.910476                    8874.714286   \n",
       "\n",
       "      7_day_reddit_comments_per_day  7_day_volumeto  pre_1_day_open  \\\n",
       "1371                    1913.192857    1.412924e+08         7234.44   \n",
       "1372                    1889.150000    1.439105e+08         7183.88   \n",
       "1373                    2007.261429    1.714965e+08         7189.94   \n",
       "1374                    2177.678571    1.794287e+08         6965.72   \n",
       "1375                    2184.522857    1.856987e+08         7339.70   \n",
       "\n",
       "      pre_7_day_open  post_1_day_close  post_7_day_close  \n",
       "1371         7202.72           6965.72           8160.36  \n",
       "1372         7207.23           7339.70           8045.15  \n",
       "1373         7253.82           7357.50           7817.35  \n",
       "1374         7316.23           7359.96           8190.31  \n",
       "1375         7399.49           7762.69           8024.58  "
      ]
     },
     "execution_count": 34,
     "metadata": {},
     "output_type": "execute_result"
    }
   ],
   "source": [
    "df.head()"
   ]
  },
  {
   "cell_type": "code",
   "execution_count": 54,
   "metadata": {},
   "outputs": [
    {
     "name": "stdout",
     "output_type": "stream",
     "text": [
      "(622, 6) (622, 1)\n"
     ]
    }
   ],
   "source": [
    "X = df[[\"close\"\n",
    "#         ,\"pre_1_day_open\"\n",
    "        ,\"pre_7_day_open\"\n",
    "        ,\"7_day_total_avg_transaction_value\"\n",
    "        ,\"7_day_large_transaction_count\"\n",
    "        ,\"7_day_reddit_comments_per_day\"\n",
    "        ,\"7_day_volumeto\"\n",
    "       ]]\n",
    "\n",
    "y = df[\"post_7_day_close\"].values.reshape(-1, 1)\n",
    "print(X.shape, y.shape)"
   ]
  },
  {
   "cell_type": "code",
   "execution_count": 55,
   "metadata": {},
   "outputs": [],
   "source": [
    "from sklearn.model_selection import train_test_split\n",
    "\n",
    "X_train, X_test, y_train, y_test = train_test_split(X, y, random_state=42)"
   ]
  },
  {
   "cell_type": "code",
   "execution_count": 56,
   "metadata": {},
   "outputs": [],
   "source": [
    "from sklearn.preprocessing import StandardScaler\n",
    "X_scaler = StandardScaler().fit(X_train)\n",
    "y_scaler = StandardScaler().fit(y_train)\n",
    "\n",
    "X_train = X_scaler.transform(X_train)\n",
    "X_test = X_scaler.transform(X_test)\n",
    "y_train = y_scaler.transform(y_train)\n",
    "y_test = y_scaler.transform(y_test)"
   ]
  },
  {
   "cell_type": "code",
   "execution_count": 57,
   "metadata": {},
   "outputs": [],
   "source": [
    "# from sklearn.linear_model import LinearRegression\n",
    "# model = LinearRegression()\n",
    "# model.fit(X_train, y_train)\n",
    "\n",
    "# from sklearn.linear_model import Lasso\n",
    "# model = Lasso(alpha=.01).fit(X_train, y_train)\n",
    "\n",
    "# from sklearn.linear_model import Ridge\n",
    "# model = Ridge(alpha=.01).fit(X_train, y_train)\n",
    "\n",
    "# from sklearn.linear_model import ElasticNet\n",
    "# model = ElasticNet(alpha=.01).fit(X_train, y_train)\n",
    "\n",
    "# from sklearn.ensemble import GradientBoostingRegressor\n",
    "# model = GradientBoostingRegressor(random_state=42, n_estimators=1000)\n",
    "# model.fit(X_train, y_train.ravel())\n",
    "\n",
    "from sklearn.ensemble import RandomForestRegressor\n",
    "model = RandomForestRegressor(random_state=42, n_estimators=100)\n",
    "model.fit(X_train, y_train.ravel())\n",
    "\n",
    "predictions = model.predict(X_test)\n",
    "predictions_unscaled = y_scaler.inverse_transform(predictions)"
   ]
  },
  {
   "cell_type": "code",
   "execution_count": 58,
   "metadata": {},
   "outputs": [
    {
     "name": "stdout",
     "output_type": "stream",
     "text": [
      "MSE: 0.1454202568317316, R2: 0.9779271035986233\n"
     ]
    }
   ],
   "source": [
    "from sklearn.metrics import mean_squared_error\n",
    "\n",
    "MSE = mean_squared_error(y_test, predictions, squared=False)\n",
    "r2 = model.score(X_test, y_test)\n",
    "\n",
    "print(f\"MSE: {MSE}, R2: {r2}\")"
   ]
  },
  {
   "cell_type": "code",
   "execution_count": 59,
   "metadata": {
    "scrolled": true
   },
   "outputs": [
    {
     "data": {
      "image/png": "[encoded data removed]",
      "text/plain": [
       "<Figure size 432x288 with 1 Axes>"
      ]
     },
     "metadata": {
      "needs_background": "light"
     },
     "output_type": "display_data"
    }
   ],
   "source": [
    "plt.scatter(model.predict(X_train), model.predict(X_train) - y_train.ravel(), c=\"blue\", label=\"Training Data\")\n",
    "plt.scatter(model.predict(X_test), model.predict(X_test) - y_test.ravel(), c=\"orange\", label=\"Test Data\")\n",
    "plt.legend()\n",
    "plt.hlines(y=0, xmin=y_test.min(), xmax=y_test.max())\n",
    "plt.title(\"Residual Plot: +7 Day Prediction\");"
   ]
  },
  {
   "cell_type": "code",
   "execution_count": 60,
   "metadata": {},
   "outputs": [
    {
     "name": "stdout",
     "output_type": "stream",
     "text": [
      "MSE: 0.0732520781140943, R2: 0.9941709875378766\n"
     ]
    }
   ],
   "source": [
    "X = df[[\"close\"\n",
    "        ,\"pre_1_day_open\"\n",
    "#         ,\"pre_7_day_open\"\n",
    "        ,\"7_day_total_avg_transaction_value\"\n",
    "        ,\"7_day_large_transaction_count\"\n",
    "        ,\"7_day_reddit_comments_per_day\"\n",
    "        ,\"7_day_volumeto\"\n",
    "       ]]\n",
    "\n",
    "y = df[\"post_1_day_close\"].values.reshape(-1, 1)\n",
    "\n",
    "X_train, X_test, y_train, y_test = train_test_split(X, y, random_state=42)\n",
    "\n",
    "X_scaler = StandardScaler().fit(X_train)\n",
    "y_scaler = StandardScaler().fit(y_train)\n",
    "\n",
    "X_train = X_scaler.transform(X_train)\n",
    "X_test = X_scaler.transform(X_test)\n",
    "y_train = y_scaler.transform(y_train)\n",
    "y_test = y_scaler.transform(y_test)\n",
    "\n",
    "model = RandomForestRegressor(random_state=42, n_estimators=100)\n",
    "model.fit(X_train, y_train.ravel())\n",
    "\n",
    "predictions = model.predict(X_test)\n",
    "predictions_unscaled = y_scaler.inverse_transform(predictions)\n",
    "\n",
    "MSE = mean_squared_error(y_test, predictions, squared=False)\n",
    "r2 = model.score(X_test, y_test)\n",
    "\n",
    "print(f\"MSE: {MSE}, R2: {r2}\")"
   ]
  },
  {
   "cell_type": "code",
   "execution_count": 61,
   "metadata": {},
   "outputs": [
    {
     "data": {
      "image/png": "[encoded data removed]",
      "text/plain": [
       "<Figure size 432x288 with 1 Axes>"
      ]
     },
     "metadata": {
      "needs_background": "light"
     },
     "output_type": "display_data"
    }
   ],
   "source": [
    "plt.scatter(model.predict(X_train), model.predict(X_train) - y_train.ravel(), c=\"blue\", label=\"Training Data\")\n",
    "plt.scatter(model.predict(X_test), model.predict(X_test) - y_test.ravel(), c=\"orange\", label=\"Test Data\")\n",
    "plt.legend()\n",
    "plt.hlines(y=0, xmin=y_test.min(), xmax=y_test.max())\n",
    "plt.title(\"Residual Plot: +1 Day Prediction\");"
   ]
  }
 ],
 "metadata": {
  "kernelspec": {
   "display_name": "Python 3",
   "language": "python",
   "name": "python3"
  },
  "language_info": {
   "codemirror_mode": {
    "name": "ipython",
    "version": 3
   },
   "file_extension": ".py",
   "mimetype": "text/x-python",
   "name": "python",
   "nbconvert_exporter": "python",
   "pygments_lexer": "ipython3",
   "version": "3.8.5"
  }
 },
 "nbformat": 4,
 "nbformat_minor": 4
}
