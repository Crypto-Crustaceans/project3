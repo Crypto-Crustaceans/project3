{
 "cells": [
  {
   "cell_type": "code",
   "execution_count": 83,
   "metadata": {},
   "outputs": [],
   "source": [
    "import pandas as pd\n",
    "import numpy as np\n",
    "import matplotlib.pyplot as plt"
   ]
  },
  {
   "cell_type": "code",
   "execution_count": 106,
   "metadata": {
    "scrolled": true
   },
   "outputs": [
    {
     "data": {
      "text/html": [
       "<div>\n",
       "<style scoped>\n",
       "    .dataframe tbody tr th:only-of-type {\n",
       "        vertical-align: middle;\n",
       "    }\n",
       "\n",
       "    .dataframe tbody tr th {\n",
       "        vertical-align: top;\n",
       "    }\n",
       "\n",
       "    .dataframe thead th {\n",
       "        text-align: right;\n",
       "    }\n",
       "</style>\n",
       "<table border=\"1\" class=\"dataframe\">\n",
       "  <thead>\n",
       "    <tr style=\"text-align: right;\">\n",
       "      <th></th>\n",
       "      <th>symbol</th>\n",
       "      <th>time</th>\n",
       "      <th>transaction_count</th>\n",
       "      <th>large_transaction_count</th>\n",
       "      <th>average_transaction_value</th>\n",
       "      <th>high</th>\n",
       "      <th>low</th>\n",
       "      <th>open</th>\n",
       "      <th>close</th>\n",
       "      <th>volumeto</th>\n",
       "      <th>reddit_comments_per_day</th>\n",
       "      <th>total_avg_transaction_value</th>\n",
       "      <th>7_day_total_avg_transaction_value</th>\n",
       "      <th>7_day_large_transaction_count</th>\n",
       "      <th>7_day_reddit_comments_per_day</th>\n",
       "      <th>7_day_volumeto</th>\n",
       "    </tr>\n",
       "  </thead>\n",
       "  <tbody>\n",
       "    <tr>\n",
       "      <th>0</th>\n",
       "      <td>BTC</td>\n",
       "      <td>1459382400</td>\n",
       "      <td>206476</td>\n",
       "      <td>1747</td>\n",
       "      <td>10.601309</td>\n",
       "      <td>417.16</td>\n",
       "      <td>411.45</td>\n",
       "      <td>412.44</td>\n",
       "      <td>415.66</td>\n",
       "      <td>17407273.19</td>\n",
       "      <td>0.0</td>\n",
       "      <td>2.188916e+06</td>\n",
       "      <td>NaN</td>\n",
       "      <td>NaN</td>\n",
       "      <td>NaN</td>\n",
       "      <td>NaN</td>\n",
       "    </tr>\n",
       "    <tr>\n",
       "      <th>1</th>\n",
       "      <td>BTC</td>\n",
       "      <td>1459468800</td>\n",
       "      <td>211922</td>\n",
       "      <td>1668</td>\n",
       "      <td>10.293830</td>\n",
       "      <td>416.86</td>\n",
       "      <td>412.79</td>\n",
       "      <td>415.66</td>\n",
       "      <td>415.64</td>\n",
       "      <td>15852511.01</td>\n",
       "      <td>0.0</td>\n",
       "      <td>2.181489e+06</td>\n",
       "      <td>NaN</td>\n",
       "      <td>NaN</td>\n",
       "      <td>NaN</td>\n",
       "      <td>NaN</td>\n",
       "    </tr>\n",
       "    <tr>\n",
       "      <th>2</th>\n",
       "      <td>BTC</td>\n",
       "      <td>1459555200</td>\n",
       "      <td>183503</td>\n",
       "      <td>1752</td>\n",
       "      <td>9.584394</td>\n",
       "      <td>420.09</td>\n",
       "      <td>415.09</td>\n",
       "      <td>415.64</td>\n",
       "      <td>418.51</td>\n",
       "      <td>13137339.89</td>\n",
       "      <td>0.0</td>\n",
       "      <td>1.758765e+06</td>\n",
       "      <td>NaN</td>\n",
       "      <td>NaN</td>\n",
       "      <td>NaN</td>\n",
       "      <td>NaN</td>\n",
       "    </tr>\n",
       "    <tr>\n",
       "      <th>3</th>\n",
       "      <td>BTC</td>\n",
       "      <td>1459641600</td>\n",
       "      <td>178429</td>\n",
       "      <td>1405</td>\n",
       "      <td>8.752097</td>\n",
       "      <td>420.18</td>\n",
       "      <td>416.95</td>\n",
       "      <td>418.51</td>\n",
       "      <td>419.06</td>\n",
       "      <td>9591214.82</td>\n",
       "      <td>0.0</td>\n",
       "      <td>1.561628e+06</td>\n",
       "      <td>NaN</td>\n",
       "      <td>NaN</td>\n",
       "      <td>NaN</td>\n",
       "      <td>NaN</td>\n",
       "    </tr>\n",
       "    <tr>\n",
       "      <th>4</th>\n",
       "      <td>BTC</td>\n",
       "      <td>1459728000</td>\n",
       "      <td>208929</td>\n",
       "      <td>1444</td>\n",
       "      <td>10.204954</td>\n",
       "      <td>420.39</td>\n",
       "      <td>416.21</td>\n",
       "      <td>419.06</td>\n",
       "      <td>419.33</td>\n",
       "      <td>14031939.65</td>\n",
       "      <td>0.0</td>\n",
       "      <td>2.132111e+06</td>\n",
       "      <td>NaN</td>\n",
       "      <td>NaN</td>\n",
       "      <td>NaN</td>\n",
       "      <td>NaN</td>\n",
       "    </tr>\n",
       "  </tbody>\n",
       "</table>\n",
       "</div>"
      ],
      "text/plain": [
       "  symbol        time  transaction_count  large_transaction_count  \\\n",
       "0    BTC  1459382400             206476                     1747   \n",
       "1    BTC  1459468800             211922                     1668   \n",
       "2    BTC  1459555200             183503                     1752   \n",
       "3    BTC  1459641600             178429                     1405   \n",
       "4    BTC  1459728000             208929                     1444   \n",
       "\n",
       "   average_transaction_value    high     low    open   close     volumeto  \\\n",
       "0                  10.601309  417.16  411.45  412.44  415.66  17407273.19   \n",
       "1                  10.293830  416.86  412.79  415.66  415.64  15852511.01   \n",
       "2                   9.584394  420.09  415.09  415.64  418.51  13137339.89   \n",
       "3                   8.752097  420.18  416.95  418.51  419.06   9591214.82   \n",
       "4                  10.204954  420.39  416.21  419.06  419.33  14031939.65   \n",
       "\n",
       "   reddit_comments_per_day  total_avg_transaction_value  \\\n",
       "0                      0.0                 2.188916e+06   \n",
       "1                      0.0                 2.181489e+06   \n",
       "2                      0.0                 1.758765e+06   \n",
       "3                      0.0                 1.561628e+06   \n",
       "4                      0.0                 2.132111e+06   \n",
       "\n",
       "   7_day_total_avg_transaction_value  7_day_large_transaction_count  \\\n",
       "0                                NaN                            NaN   \n",
       "1                                NaN                            NaN   \n",
       "2                                NaN                            NaN   \n",
       "3                                NaN                            NaN   \n",
       "4                                NaN                            NaN   \n",
       "\n",
       "   7_day_reddit_comments_per_day  7_day_volumeto  \n",
       "0                            NaN             NaN  \n",
       "1                            NaN             NaN  \n",
       "2                            NaN             NaN  \n",
       "3                            NaN             NaN  \n",
       "4                            NaN             NaN  "
      ]
     },
     "execution_count": 106,
     "metadata": {},
     "output_type": "execute_result"
    }
   ],
   "source": [
    "df = pd.read_csv('combined_data.csv')\n",
    "\n",
    "df.head()"
   ]
  },
  {
   "cell_type": "code",
   "execution_count": 107,
   "metadata": {},
   "outputs": [],
   "source": [
    "df = df.dropna()"
   ]
  },
  {
   "cell_type": "code",
   "execution_count": 108,
   "metadata": {},
   "outputs": [],
   "source": [
    "df = df[df['7_day_reddit_comments_per_day'] > 0]"
   ]
  },
  {
   "cell_type": "code",
   "execution_count": 109,
   "metadata": {},
   "outputs": [],
   "source": [
    "list = []\n",
    "\n",
    "for i in range(0, len(df)-6):\n",
    "    percent = (df.iloc[i+6,8] - df.iloc[i,7]) / df.iloc[i,7]\n",
    "    value = (1 + percent) * df.iloc[i,7]\n",
    "    list.append(value)"
   ]
  },
  {
   "cell_type": "code",
   "execution_count": 110,
   "metadata": {},
   "outputs": [],
   "source": [
    "df = df.iloc[:-6,]"
   ]
  },
  {
   "cell_type": "code",
   "execution_count": 111,
   "metadata": {},
   "outputs": [],
   "source": [
    "df['7_day_change'] = list"
   ]
  },
  {
   "cell_type": "code",
   "execution_count": 112,
   "metadata": {},
   "outputs": [
    {
     "data": {
      "text/html": [
       "<div>\n",
       "<style scoped>\n",
       "    .dataframe tbody tr th:only-of-type {\n",
       "        vertical-align: middle;\n",
       "    }\n",
       "\n",
       "    .dataframe tbody tr th {\n",
       "        vertical-align: top;\n",
       "    }\n",
       "\n",
       "    .dataframe thead th {\n",
       "        text-align: right;\n",
       "    }\n",
       "</style>\n",
       "<table border=\"1\" class=\"dataframe\">\n",
       "  <thead>\n",
       "    <tr style=\"text-align: right;\">\n",
       "      <th></th>\n",
       "      <th>symbol</th>\n",
       "      <th>time</th>\n",
       "      <th>transaction_count</th>\n",
       "      <th>large_transaction_count</th>\n",
       "      <th>average_transaction_value</th>\n",
       "      <th>high</th>\n",
       "      <th>low</th>\n",
       "      <th>open</th>\n",
       "      <th>close</th>\n",
       "      <th>volumeto</th>\n",
       "      <th>reddit_comments_per_day</th>\n",
       "      <th>total_avg_transaction_value</th>\n",
       "      <th>7_day_total_avg_transaction_value</th>\n",
       "      <th>7_day_large_transaction_count</th>\n",
       "      <th>7_day_reddit_comments_per_day</th>\n",
       "      <th>7_day_volumeto</th>\n",
       "      <th>7_day_change</th>\n",
       "    </tr>\n",
       "  </thead>\n",
       "  <tbody>\n",
       "    <tr>\n",
       "      <th>421</th>\n",
       "      <td>BTC</td>\n",
       "      <td>1495756800</td>\n",
       "      <td>333340</td>\n",
       "      <td>12684</td>\n",
       "      <td>8.413740</td>\n",
       "      <td>2616.52</td>\n",
       "      <td>2051.45</td>\n",
       "      <td>2306.96</td>\n",
       "      <td>2244.89</td>\n",
       "      <td>4.413427e+08</td>\n",
       "      <td>8437.50</td>\n",
       "      <td>2.804636e+06</td>\n",
       "      <td>3.211053e+06</td>\n",
       "      <td>14742.714286</td>\n",
       "      <td>1205.357143</td>\n",
       "      <td>3.404359e+08</td>\n",
       "      <td>2412.65</td>\n",
       "    </tr>\n",
       "    <tr>\n",
       "      <th>422</th>\n",
       "      <td>BTC</td>\n",
       "      <td>1495843200</td>\n",
       "      <td>331914</td>\n",
       "      <td>9375</td>\n",
       "      <td>8.006224</td>\n",
       "      <td>2322.37</td>\n",
       "      <td>1868.56</td>\n",
       "      <td>2244.89</td>\n",
       "      <td>2052.43</td>\n",
       "      <td>4.460340e+08</td>\n",
       "      <td>4130.02</td>\n",
       "      <td>2.657378e+06</td>\n",
       "      <td>3.190095e+06</td>\n",
       "      <td>14750.285714</td>\n",
       "      <td>1795.360000</td>\n",
       "      <td>3.785340e+08</td>\n",
       "      <td>2492.60</td>\n",
       "    </tr>\n",
       "    <tr>\n",
       "      <th>423</th>\n",
       "      <td>BTC</td>\n",
       "      <td>1495929600</td>\n",
       "      <td>308143</td>\n",
       "      <td>10415</td>\n",
       "      <td>9.043029</td>\n",
       "      <td>2300.52</td>\n",
       "      <td>2051.07</td>\n",
       "      <td>2052.43</td>\n",
       "      <td>2189.02</td>\n",
       "      <td>2.667661e+08</td>\n",
       "      <td>3314.15</td>\n",
       "      <td>2.786546e+06</td>\n",
       "      <td>3.257769e+06</td>\n",
       "      <td>14630.857143</td>\n",
       "      <td>2268.810000</td>\n",
       "      <td>3.936382e+08</td>\n",
       "      <td>2545.43</td>\n",
       "    </tr>\n",
       "    <tr>\n",
       "      <th>424</th>\n",
       "      <td>BTC</td>\n",
       "      <td>1496016000</td>\n",
       "      <td>321638</td>\n",
       "      <td>9577</td>\n",
       "      <td>7.850842</td>\n",
       "      <td>2337.35</td>\n",
       "      <td>2117.34</td>\n",
       "      <td>2189.02</td>\n",
       "      <td>2278.21</td>\n",
       "      <td>2.041016e+08</td>\n",
       "      <td>6428.57</td>\n",
       "      <td>2.525129e+06</td>\n",
       "      <td>3.143673e+06</td>\n",
       "      <td>13804.000000</td>\n",
       "      <td>3187.177143</td>\n",
       "      <td>3.694409e+08</td>\n",
       "      <td>2524.06</td>\n",
       "    </tr>\n",
       "    <tr>\n",
       "      <th>425</th>\n",
       "      <td>BTC</td>\n",
       "      <td>1496102400</td>\n",
       "      <td>347961</td>\n",
       "      <td>15138</td>\n",
       "      <td>10.996721</td>\n",
       "      <td>2329.26</td>\n",
       "      <td>2147.10</td>\n",
       "      <td>2278.21</td>\n",
       "      <td>2192.55</td>\n",
       "      <td>2.700691e+08</td>\n",
       "      <td>6676.97</td>\n",
       "      <td>3.826430e+06</td>\n",
       "      <td>3.102742e+06</td>\n",
       "      <td>13208.714286</td>\n",
       "      <td>4141.030000</td>\n",
       "      <td>3.720267e+08</td>\n",
       "      <td>2704.96</td>\n",
       "    </tr>\n",
       "  </tbody>\n",
       "</table>\n",
       "</div>"
      ],
      "text/plain": [
       "    symbol        time  transaction_count  large_transaction_count  \\\n",
       "421    BTC  1495756800             333340                    12684   \n",
       "422    BTC  1495843200             331914                     9375   \n",
       "423    BTC  1495929600             308143                    10415   \n",
       "424    BTC  1496016000             321638                     9577   \n",
       "425    BTC  1496102400             347961                    15138   \n",
       "\n",
       "     average_transaction_value     high      low     open    close  \\\n",
       "421                   8.413740  2616.52  2051.45  2306.96  2244.89   \n",
       "422                   8.006224  2322.37  1868.56  2244.89  2052.43   \n",
       "423                   9.043029  2300.52  2051.07  2052.43  2189.02   \n",
       "424                   7.850842  2337.35  2117.34  2189.02  2278.21   \n",
       "425                  10.996721  2329.26  2147.10  2278.21  2192.55   \n",
       "\n",
       "         volumeto  reddit_comments_per_day  total_avg_transaction_value  \\\n",
       "421  4.413427e+08                  8437.50                 2.804636e+06   \n",
       "422  4.460340e+08                  4130.02                 2.657378e+06   \n",
       "423  2.667661e+08                  3314.15                 2.786546e+06   \n",
       "424  2.041016e+08                  6428.57                 2.525129e+06   \n",
       "425  2.700691e+08                  6676.97                 3.826430e+06   \n",
       "\n",
       "     7_day_total_avg_transaction_value  7_day_large_transaction_count  \\\n",
       "421                       3.211053e+06                   14742.714286   \n",
       "422                       3.190095e+06                   14750.285714   \n",
       "423                       3.257769e+06                   14630.857143   \n",
       "424                       3.143673e+06                   13804.000000   \n",
       "425                       3.102742e+06                   13208.714286   \n",
       "\n",
       "     7_day_reddit_comments_per_day  7_day_volumeto  7_day_change  \n",
       "421                    1205.357143    3.404359e+08       2412.65  \n",
       "422                    1795.360000    3.785340e+08       2492.60  \n",
       "423                    2268.810000    3.936382e+08       2545.43  \n",
       "424                    3187.177143    3.694409e+08       2524.06  \n",
       "425                    4141.030000    3.720267e+08       2704.96  "
      ]
     },
     "execution_count": 112,
     "metadata": {},
     "output_type": "execute_result"
    }
   ],
   "source": [
    "df.head()"
   ]
  },
  {
   "cell_type": "code",
   "execution_count": 113,
   "metadata": {},
   "outputs": [
    {
     "name": "stdout",
     "output_type": "stream",
     "text": [
      "(1572, 4) (1572, 1)\n"
     ]
    }
   ],
   "source": [
    "X = df[[\"7_day_total_avg_transaction_value\", \"7_day_large_transaction_count\",\"7_day_reddit_comments_per_day\",\"7_day_volumeto\"]]\n",
    "y = df[\"7_day_change\"].values.reshape(-1, 1)\n",
    "print(X.shape, y.shape)"
   ]
  },
  {
   "cell_type": "code",
   "execution_count": 114,
   "metadata": {},
   "outputs": [],
   "source": [
    "from sklearn.model_selection import train_test_split\n",
    "\n",
    "X_train, X_test, y_train, y_test = train_test_split(X, y, random_state=42)"
   ]
  },
  {
   "cell_type": "code",
   "execution_count": 115,
   "metadata": {},
   "outputs": [],
   "source": [
    "from sklearn.linear_model import LinearRegression\n",
    "model = LinearRegression()"
   ]
  },
  {
   "cell_type": "code",
   "execution_count": 116,
   "metadata": {},
   "outputs": [
    {
     "name": "stdout",
     "output_type": "stream",
     "text": [
      "Training Score: 0.689454376456074\n",
      "Testing Score: 0.618144849819263\n"
     ]
    }
   ],
   "source": [
    "model.fit(X_train, y_train)\n",
    "training_score = model.score(X_train, y_train)\n",
    "testing_score = model.score(X_test, y_test) \n",
    "\n",
    "print(f\"Training Score: {training_score}\")\n",
    "print(f\"Testing Score: {testing_score}\")"
   ]
  },
  {
   "cell_type": "code",
   "execution_count": 100,
   "metadata": {
    "scrolled": true
   },
   "outputs": [
    {
     "data": {
      "text/plain": [
       "Text(0.5, 1.0, 'Residual Plot')"
      ]
     },
     "execution_count": 100,
     "metadata": {},
     "output_type": "execute_result"
    },
    {
     "data": {
      "image/png": "[encoded data removed]",
      "text/plain": [
       "<Figure size 432x288 with 1 Axes>"
      ]
     },
     "metadata": {
      "needs_background": "light"
     },
     "output_type": "display_data"
    }
   ],
   "source": [
    "plt.scatter(model.predict(X_train), model.predict(X_train) - y_train, c=\"blue\", label=\"Training Data\")\n",
    "plt.scatter(model.predict(X_test), model.predict(X_test) - y_test, c=\"orange\", label=\"Testing Data\")\n",
    "plt.legend()\n",
    "plt.hlines(y=0, xmin=y.min(), xmax=y.max())\n",
    "plt.title(\"Residual Plot\")"
   ]
  }
 ],
 "metadata": {
  "kernelspec": {
   "display_name": "Python 3",
   "language": "python",
   "name": "python3"
  },
  "language_info": {
   "codemirror_mode": {
    "name": "ipython",
    "version": 3
   },
   "file_extension": ".py",
   "mimetype": "text/x-python",
   "name": "python",
   "nbconvert_exporter": "python",
   "pygments_lexer": "ipython3",
   "version": "3.8.5"
  }
 },
 "nbformat": 4,
 "nbformat_minor": 4
}
